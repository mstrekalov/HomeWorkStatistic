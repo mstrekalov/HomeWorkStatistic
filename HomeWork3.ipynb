{
 "cells": [
  {
   "cell_type": "markdown",
   "metadata": {},
   "source": [
    "Даны значения зарплат из выборки выпускников: 100, 80, 75, 77, 89, 33, 45, 25, 65, 17, 30, 24, 57, 55, 70, 75, 65, 84, 90, 150. Посчитать (желательно без использования статистических методов наподобие std, var, mean) среднее арифметическое, среднее квадратичное отклонение, смещенную и несмещенную оценки дисперсий для данной выборки."
   ]
  },
  {
   "cell_type": "code",
   "execution_count": 1,
   "metadata": {},
   "outputs": [],
   "source": [
    "import numpy as np\n",
    "import pandas as pd\n",
    "from math import factorial\n",
    "def combinations(n, k):\n",
    "    return int(factorial(n) / (factorial(k) * factorial(n - k)))"
   ]
  },
  {
   "cell_type": "code",
   "execution_count": 31,
   "metadata": {},
   "outputs": [
    {
     "data": {
      "text/plain": [
       "(65.3, 30.823854398825596, 950.11)"
      ]
     },
     "execution_count": 31,
     "metadata": {},
     "output_type": "execute_result"
    }
   ],
   "source": [
    "#среднее арифметическое\n",
    "av = (100+80+75+77+89+33+45+25+65+17+30+24+57+55+70+75+65+84+90+150)/20\n",
    "\n",
    "#среднее квадратичное отклонение\n",
    "a = [100, 80, 75, 77, 89, 33, 45, 25, 65, 17, 30, 24, 57, 55, 70, 75, 65, 84, 90, 150]\n",
    "\n",
    "av, np.std(a), np.var(a)"
   ]
  },
  {
   "cell_type": "markdown",
   "metadata": {},
   "source": [
    "В первом ящике находится 8 мячей, из которых 5 - белые. Во втором ящике - 12 мячей, из которых 5 белых. Из первого ящика вытаскивают случайным образом два мяча, из второго - 4. Какова вероятность того, что 3 мяча белые?"
   ]
  },
  {
   "cell_type": "code",
   "execution_count": 2,
   "metadata": {},
   "outputs": [
    {
     "data": {
      "text/plain": [
       "0.3686868686868687"
      ]
     },
     "execution_count": 2,
     "metadata": {},
     "output_type": "execute_result"
    }
   ],
   "source": [
    "q = (combinations(5,0)*combinations(3,2))/combinations(8,2)*((combinations(5,2)*combinations(7,1))/combinations(12,4))\n",
    "b = (combinations(5,1)*combinations(3,1))/combinations(8,2)*((combinations(5,2)*combinations(7,2))/combinations(12,4))\n",
    "c = (combinations(5,2)*combinations(3,0))/combinations(8,2)*((combinations(5,1)*combinations(7,3))/combinations(12,4))\n",
    "q+b+c"
   ]
  },
  {
   "cell_type": "markdown",
   "metadata": {},
   "source": [
    "На соревновании по биатлону один из трех спортсменов стреляет и попадает в мишень. Вероятность попадания для первого спортсмена равна 0.9, для второго — 0.8, для третьего — 0.6. Найти вероятность того, что выстрел произведен: a). первым спортсменом б). вторым спортсменом в). третьим спортсменом."
   ]
  },
  {
   "cell_type": "code",
   "execution_count": 10,
   "metadata": {},
   "outputs": [
    {
     "data": {
      "text/plain": [
       "(0.391304347826087, 0.3478260869565218, 0.2608695652173913)"
      ]
     },
     "execution_count": 10,
     "metadata": {},
     "output_type": "execute_result"
    }
   ],
   "source": [
    "first = 1/3*0.9\n",
    "second = 1/3*0.8\n",
    "third = 1/3*0.6\n",
    "pA = first+ second+third\n",
    "p1 = first/pA\n",
    "p2 = second/pA\n",
    "p3 = third/pA\n",
    "p1,p2,p3"
   ]
  },
  {
   "cell_type": "markdown",
   "metadata": {},
   "source": [
    "В университет на факультеты A и B поступило равное количество студентов, а на факультет C студентов поступило столько же, сколько на A и B вместе. Вероятность того, что студент факультета A сдаст первую сессию, равна 0.8. Для студента факультета B эта вероятность равна 0.7, а для студента факультета C - 0.9. Студент сдал первую сессию. Какова вероятность, что он учится: a). на факультете A б). на факультете B в). на факультете C?"
   ]
  },
  {
   "cell_type": "code",
   "execution_count": 20,
   "metadata": {},
   "outputs": [
    {
     "data": {
      "text/plain": [
       "(0.24242424242424246, 0.21212121212121213, 0.5454545454545455)"
      ]
     },
     "execution_count": 20,
     "metadata": {},
     "output_type": "execute_result"
    }
   ],
   "source": [
    "pA1 = 0.8\n",
    "pB1 = 0.7\n",
    "pC3 = 0.9\n",
    "p11 = 1/4*0.8+1/4*0.7+1/2*0.9\n",
    "a1 = 1/4*0.8/p11\n",
    "b2 = 1/4*0.7/p11\n",
    "c3 = 1/2*0.9/p11\n",
    "a1,b2,c3"
   ]
  },
  {
   "cell_type": "markdown",
   "metadata": {},
   "source": [
    "Устройство состоит из трех деталей. Для первой детали вероятность выйти из строя в первый месяц равна 0.1, для второй - 0.2, для третьей - 0.25. Какова вероятность того, что в первый месяц выйдут из строя: а). все детали б). только две детали в). хотя бы одна деталь г). от одной до двух деталей?"
   ]
  },
  {
   "cell_type": "code",
   "execution_count": 18,
   "metadata": {},
   "outputs": [
    {
     "data": {
      "text/plain": [
       "(0.005000000000000001,\n",
       " 0.08000000000000002,\n",
       " 0.45999999999999996,\n",
       " 0.45499999999999996)"
      ]
     },
     "execution_count": 18,
     "metadata": {},
     "output_type": "execute_result"
    }
   ],
   "source": [
    "p1=0.1 \n",
    "p2=0.2 \n",
    "p3=0.25\n",
    "q1=0.9\n",
    "q2=0.8 \n",
    "q3=0.75\n",
    "\n",
    "#а). все детали\n",
    "a1 = p1*p2*p3\n",
    "\n",
    "#только две детали\n",
    "a2 = p1*p2*q3+p1*q2*p3+q1*p2*p3\n",
    "\n",
    "#хотя бы одна деталь\n",
    "a3 = 1- q1*q2*q3\n",
    "\n",
    "#от одной до двух деталей?\n",
    "a4 = 1- q1*q2*q3 -p1*p2*p3\n",
    "\n",
    "a1,a2,a3,a4"
   ]
  },
  {
   "cell_type": "code",
   "execution_count": null,
   "metadata": {},
   "outputs": [],
   "source": []
  }
 ],
 "metadata": {
  "kernelspec": {
   "display_name": "Python 3",
   "language": "python",
   "name": "python3"
  },
  "language_info": {
   "codemirror_mode": {
    "name": "ipython",
    "version": 3
   },
   "file_extension": ".py",
   "mimetype": "text/x-python",
   "name": "python",
   "nbconvert_exporter": "python",
   "pygments_lexer": "ipython3",
   "version": "3.7.0"
  }
 },
 "nbformat": 4,
 "nbformat_minor": 2
}
