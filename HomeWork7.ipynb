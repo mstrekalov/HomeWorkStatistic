{
 "cells": [
  {
   "cell_type": "markdown",
   "metadata": {},
   "source": [
    "1.Даны значения величины заработной платы заемщиков банка (zp) и значения их поведенческого кредитного скоринга (ks): zp = [35, 45, 190, 200, 40, 70, 54, 150, 120, 110], ks = [401, 574, 874, 919, 459, 739, 653, 902, 746, 832]. Используя математические операции, посчитать коэффициенты линейной регрессии, приняв за X заработную плату (то есть, zp - признак), а за y - значения скорингового балла (то есть, ks - целевая переменная). Произвести расчет как с использованием intercept, так и без."
   ]
  },
  {
   "cell_type": "code",
   "execution_count": 28,
   "metadata": {},
   "outputs": [
    {
     "data": {
      "image/png": "[encoded data removed]",
      "text/plain": [
       "<Figure size 432x288 with 1 Axes>"
      ]
     },
     "metadata": {
      "needs_background": "light"
     },
     "output_type": "display_data"
    },
    {
     "name": "stdout",
     "output_type": "stream",
     "text": [
      "444.1773573243596 2.620538882402765\n"
     ]
    }
   ],
   "source": [
    "  import numpy as np\n",
    "import pandas as pd\n",
    "import matplotlib.pyplot as plt\n",
    "# количество наблюдений\n",
    "n = 10\n",
    "ks = [401, 574, 874, 919, 459, 739, 653, 902, 746, 832]\n",
    "zp = [35, 45, 190, 200, 40, 70, 54, 150, 120, 110]\n",
    "x = np.array(zp, dtype=np.float64)\n",
    "y = np.array(ks, dtype=np.float64)\n",
    "\n",
    "b = (np.mean(x * y) - np.mean(x) * np.mean(y)) / (np.mean(x**2) - np.mean(x) ** 2)\n",
    "a = np.mean(y) - b * np.mean(x)\n",
    "\n",
    "r = b * np.std(x) / np.std(y)\n",
    "R2 = r**2\n",
    "y_pred = a + b * x\n",
    "y_pred1 = b * x\n",
    "A_mean = 100 * np.mean(np.abs((y - y_pred) / y))\n",
    "F_fact = (r**2 * (n - 2)) / (1 - r**2)\n",
    "\n",
    "df = pd.DataFrame({'x': x, 'y': y, 'y_pred': y_pred}, columns=['x', 'y', 'y_pred'])\n",
    "df = df.sort_values('x')\n",
    "plt.scatter(df['x'], df['y'])\n",
    "plt.plot(df['x'], df['y_pred'])\n",
    "plt.xlabel('Площадь квартиры (кв. м.)')\n",
    "plt.ylabel('Цена квартиры (тыс. долларов.)')\n",
    "plt.show()\n",
    "print(a,b)"
   ]
  },
  {
   "cell_type": "markdown",
   "metadata": {},
   "source": [
    "2.Посчитать коэффициент линейной регрессии при заработной плате (zp), используя градиентный спуск (без intercept)."
   ]
  },
  {
   "cell_type": "code",
   "execution_count": 29,
   "metadata": {},
   "outputs": [
    {
     "data": {
      "text/plain": [
       "(-2.013421903365287e+296, -2.735463263026013e+298)"
      ]
     },
     "execution_count": 29,
     "metadata": {},
     "output_type": "execute_result"
    }
   ],
   "source": [
    "# формируем наборы обучающих данных\n",
    "x_train, y_train = x, y\n",
    "\n",
    "# скорость обучения\n",
    "lr = 0.05\n",
    "# количество эпох\n",
    "n_epochs = 100\n",
    "\n",
    "# основной цикл\n",
    "for epoch in range(n_epochs):\n",
    "  \n",
    "    # рассчитываем результирующий массив с текущими коэффициентами a и b\n",
    "    # на основе обучающей выборки \n",
    "    yhat = a + b * x_train\n",
    "    \n",
    "    # 1. определяем лосс\n",
    "    # считаем отклонение нового результата от обучающего:\n",
    "    error = (y_train - yhat)\n",
    "    \n",
    "    # 2. считаем градиенты (вспоминая формулу производной)\n",
    "    # для коэффициента a\n",
    "    a_grad = -2 * error.mean()\n",
    "    # для коэффициента b\n",
    "    b_grad = -2 * (x_train * error).mean()\n",
    "    \n",
    "    # 3. обновляем параметры, используя коэффициент скорости обучения\n",
    "    a = a - lr * a_grad\n",
    "    b = b - lr * b_grad\n",
    "a,b"
   ]
  },
  {
   "cell_type": "markdown",
   "metadata": {},
   "source": [
    "3.В каких случаях для вычисления доверительных интервалов и проверки статистических гипотез используется таблица значений функции Лапласа, а в каких - таблица критических точек распределения Стьюдента? *4. Произвести вычисления как в пункте 2, но с вычислением intercept. Учесть, что изменение коэффициентов должно производиться на каждом шаге одновременно (то есть изменение одного коэффициента не должно влиять на изменение другого во время одной итерации)."
   ]
  },
  {
   "cell_type": "markdown",
   "metadata": {},
   "source": [
    "Лаплас - построение доверительных интервалов или проверка гипотез о параметрах случайных величин.\n",
    "Стьюдент -  значение для произвольного количества степеней свободы и для любого уровня значимости."
   ]
  }
 ],
 "metadata": {
  "kernelspec": {
   "display_name": "Python 3",
   "language": "python",
   "name": "python3"
  },
  "language_info": {
   "codemirror_mode": {
    "name": "ipython",
    "version": 3
   },
   "file_extension": ".py",
   "mimetype": "text/x-python",
   "name": "python",
   "nbconvert_exporter": "python",
   "pygments_lexer": "ipython3",
   "version": "3.7.0"
  }
 },
 "nbformat": 4,
 "nbformat_minor": 2
}
